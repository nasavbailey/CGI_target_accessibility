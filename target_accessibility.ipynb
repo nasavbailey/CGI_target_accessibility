{
 "cells": [
  {
   "cell_type": "markdown",
   "metadata": {},
   "source": [
    "# simple Roman Coronagraph target accessibility calculator\n",
    "Calculates approximate date ranges each year when the Roman Observatory can point to a given target, based only on Sun-angle constraints.  Marks periods of time when the Galactic Bulge is observable, because the Galactic Bulge Time Domain Survey (GBTDS) will typically take priority during those times."
   ]
  },
  {
   "cell_type": "code",
   "execution_count": null,
   "metadata": {},
   "outputs": [],
   "source": [
    "from yp import *\n",
    "from astropy.io import ascii\n",
    "from astropy.table import unique as aptunique\n",
    "import matplotlib.pyplot as plt\n",
    "%matplotlib inline\n",
    "import os\n",
    "from pandas import DataFrame\n",
    "from numpy import nan\n",
    "import astropy.coordinates as coord\n"
   ]
  },
  {
   "cell_type": "code",
   "execution_count": null,
   "metadata": {},
   "outputs": [],
   "source": [
    "# prefix for target list file name\n",
    "prefix = 'example'\n",
    "\n",
    "# make directory for output files\n",
    "if not os.path.exists('./output'):\n",
    "    os.mkdir('./output')"
   ]
  },
  {
   "cell_type": "code",
   "execution_count": null,
   "metadata": {
    "scrolled": true
   },
   "outputs": [],
   "source": [
    "# optionally...Look up coordinates for all targets in simbad. \n",
    "# If you manually make a coordinates file, you can skip this step by setting runSimbad = False. \n",
    "\n",
    "runSimbad = True\n",
    "\n",
    "if runSimbad:\n",
    "    from astroquery.simbad import Simbad\n",
    "\n",
    "    dat = ascii.read(prefix+'.txt', comment='#')\n",
    "    dat.meta = {}\n",
    "    RA_d = []\n",
    "    RA_h = []\n",
    "    dec_d = []\n",
    "    dec_h = []\n",
    "\n",
    "    from time import sleep\n",
    "\n",
    "    for ct in range(len(dat)):\n",
    "        result_table = Simbad.query_object(dat['Name'][ct])\n",
    "        sleep(1/6) # don't submit more than 6 quieries per second to avoid IP blacklisting\n",
    "        tmp = coord.SkyCoord(result_table['RA'][0], result_table['DEC'][0], frame='icrs', unit=(u.hourangle, u.deg)) \n",
    "        RA_d.append(tmp.ra.deg)\n",
    "        RA_h.append(tmp.ra.to_string(unit=u.hour))\n",
    "        dec_d.append(tmp.dec.deg)\n",
    "        dec_h.append(tmp.dec.to_string(unit=u.deg))\n",
    "\n",
    "    dat['RA_d'] = RA_d\n",
    "    dat['dec_d']  = dec_d\n",
    "    dat['RA_h'] = RA_h\n",
    "    dat['dec_h']  = dec_h\n",
    "    \n",
    "    # The Galactic Bulge Time Domain Survey will take priority most of the time when the Bulge is observable\n",
    "    gbtds = coord.SkyCoord(0, 0, unit=(u.degree, u.degree), frame='galactic').transform_to('icrs')\n",
    "    dat.add_row( ['_GBTDS_', 'WFI',gbtds.ra.deg, gbtds.dec.deg, \\\n",
    "                gbtds.ra.to_string(unit=u.hour), gbtds.dec.to_string(unit=u.deg)] )\n",
    "\n",
    "    ascii.write(dat,'output/coords_'+prefix+'.csv', delimiter=',', overwrite=True)\n"
   ]
  },
  {
   "cell_type": "markdown",
   "metadata": {},
   "source": [
    "calculate when we can point at each target. ONLY accounts for solar panel-to-sun angle, not Moon/Earth/Solar System bodies keep-out zones"
   ]
  },
  {
   "cell_type": "code",
   "execution_count": null,
   "metadata": {},
   "outputs": [],
   "source": [
    "sttab = ascii.read('output/coords_'+prefix+'.csv')\n",
    "sttab['lowername'] = [str.lower(x) for x in sttab['Name']] \n",
    "sttab = aptunique(sttab, keys='Name', keep='first') \n",
    "\n",
    "sttab.sort('lowername')\n",
    "nstars = len(sttab['Name'])\n",
    "isobs = np.zeros( (365,nstars), dtype=int)\n",
    "\n",
    "max_sunangle= 34\n",
    "\n",
    "\n",
    "for ct, name in enumerate(sttab['Name']):\n",
    "    tmp = (sttab[ct]['RA_d']*u.deg, sttab[ct]['dec_d']*u.deg)\n",
    "    for iday in range(365):\n",
    "        isobs[iday, ct] = is_observable(tmp, iday, max_dgr=max_sunangle)\n",
    "\n",
    "fracobs = np.mean(isobs,0)\n"
   ]
  },
  {
   "cell_type": "code",
   "execution_count": null,
   "metadata": {},
   "outputs": [],
   "source": [
    "with open('output/observability_'+prefix+'.csv', 'w') as f:\n",
    "    f.write('%-11s %-3s\\n'%('Name','frac_time_observable'))\n",
    "    for ct in range(len(fracobs)):\n",
    "        f.write('%-11s %3.2f\\n'%(sttab[ct]['Name'], fracobs[ct]))\n",
    "f.close()"
   ]
  },
  {
   "cell_type": "code",
   "execution_count": null,
   "metadata": {
    "scrolled": true
   },
   "outputs": [],
   "source": [
    "df = DataFrame(data=isobs, columns=sttab['Name'])\n",
    "df['day number'] = np.arange(365)+1\n",
    "cols = df.columns.tolist()\n",
    "cols = cols[-1:] + cols[:-1]\n",
    "df = df[cols]\n",
    "df.to_csv('output/observability_'+prefix+'_'+str(max_sunangle)+'dgr.csv', index=False)\n",
    "\n",
    "# start and stop days of Galactic Buldge season\n",
    "tmp = df['_GBTDS_'] - np.roll(df['_GBTDS_'],1) \n",
    "gbtds_obs_days = np.argwhere(tmp.values != 0 )"
   ]
  },
  {
   "cell_type": "code",
   "execution_count": null,
   "metadata": {
    "scrolled": false
   },
   "outputs": [],
   "source": [
    "#fig, ax = plt.subplots( nrows=2, ncols=1, figsize = (12,15) ) \n",
    "\n",
    "theme = 'light'\n",
    "if theme.lower() == 'light':\n",
    "    cm = 'Greens'\n",
    "    cl = [-0.1,1.3]\n",
    "    csep = 'w'\n",
    "    cf = [0,.2,0]\n",
    "elif theme.lower() == 'dark':\n",
    "    cm = 'hot'\n",
    "    cl = [-0.1,1.1]\n",
    "    plt.gca().set_facecolor('black')\n",
    "    csep = 'black'\n",
    "    cf = [1,1,.5]\n",
    "else:\n",
    "    raise Exception('color theme must be \"light\" or \"dark\"')\n",
    "    \n",
    "\n",
    "    \n",
    "for sort_by_observability in [True, False]:\n",
    "    fig = plt.figure(figsize=(12,7))\n",
    "\n",
    "    if sort_by_observability == True:\n",
    "        tosort = np.argsort(fracobs)[::-1]\n",
    "        tmp = isobs.T[tosort,:]\n",
    "        textorder = tosort\n",
    "        ax = fig.add_subplot(111)\n",
    "    else:\n",
    "        tmp = isobs.T\n",
    "        textorder = range(nstars)\n",
    "        ax = fig.add_subplot(111)\n",
    "        \n",
    "    plt.imshow(tmp, aspect='auto', origin='upper', cmap=cm)\n",
    "    plt.clim(cl)\n",
    "    plt.xlim([0,430])\n",
    "    \n",
    "     # plot vertical lines at microlensing season boundaries\n",
    "    plt.axvspan(gbtds_obs_days[0], gbtds_obs_days[1]-1, color='k', alpha=.3)\n",
    "    plt.axvspan(gbtds_obs_days[2], gbtds_obs_days[3]-1, color='k', alpha=.3)\n",
    "    \n",
    "    # label each row with target name and % of time observable\n",
    "    for ct, idx in enumerate(textorder):\n",
    "        plt.text(370, ct, '%-11s%3s %3.0f%%'%(sttab[idx]['Name'], sttab[idx]['type'], fracobs[idx]*100), \\\n",
    "                 color=cf, verticalalignment='center', fontdict={'family':'monospace'})\n",
    "        plt.axhline(ct+0.5, c=csep, linewidth=5)\n",
    "    plt.axhline(-0.5, c=csep, linewidth=5)\n",
    "\n",
    "    # make x axis tick labels more sensible\n",
    "    xt = []\n",
    "    monthnames = ['jan','feb','mar','apr','may','jun','jul','aug','sep','oct','nov','dec']\n",
    "    xtl = []\n",
    "    for ct in np.arange(12)+1:\n",
    "        tmp = datetime.date(2026, ct, 1).timetuple().tm_yday\n",
    "        plt.axvline(tmp-0.5, c='dimgray', linewidth=1)\n",
    "        xt.append(tmp)\n",
    "        xtl.append(monthnames[ct-1]+' (%i)'%tmp)\n",
    "    ax.set_xticks(xt)\n",
    "    ax.set_xticklabels(xtl)\n",
    "    ax.set_xlabel('month (day of year)', fontsize=14)\n",
    "\n",
    "    ax.set_yticks([])\n",
    "    \n",
    "    plt.title('')\n",
    "\n",
    "    plt.tight_layout()\n",
    "\n",
    "    if sort_by_observability:\n",
    "        plt.savefig('output/observability_'+prefix+'_byfrac_'+str(max_sunangle)+'dgr.pdf')\n",
    "    else:\n",
    "        plt.savefig('output/observability_'+prefix+'_byname_'+str(max_sunangle)+'dgr.pdf')"
   ]
  }
 ],
 "metadata": {
  "kernelspec": {
   "display_name": "Python 3 (ipykernel)",
   "language": "python",
   "name": "python3"
  },
  "language_info": {
   "codemirror_mode": {
    "name": "ipython",
    "version": 3
   },
   "file_extension": ".py",
   "mimetype": "text/x-python",
   "name": "python",
   "nbconvert_exporter": "python",
   "pygments_lexer": "ipython3",
   "version": "3.7.11"
  }
 },
 "nbformat": 4,
 "nbformat_minor": 2
}
